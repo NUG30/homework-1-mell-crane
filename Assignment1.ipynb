{
  "nbformat": 4,
  "nbformat_minor": 0,
  "metadata": {
    "colab": {
      "name": "Assignment1.ipynb",
      "provenance": [],
      "collapsed_sections": [],
      "include_colab_link": true
    },
    "kernelspec": {
      "name": "python3",
      "display_name": "Python 3"
    }
  },
  "cells": [
    {
      "cell_type": "markdown",
      "metadata": {
        "id": "view-in-github",
        "colab_type": "text"
      },
      "source": [
        "<a href=\"https://colab.research.google.com/github/NUG30/homework-1-mell-crane/blob/main/Assignment1.ipynb\" target=\"_parent\"><img src=\"https://colab.research.google.com/assets/colab-badge.svg\" alt=\"Open In Colab\"/></a>"
      ]
    },
    {
      "cell_type": "markdown",
      "metadata": {
        "id": "6cRdXGYzOlil"
      },
      "source": [
        "# Homework 1: Introduction to Python and NumPy\n",
        "\n",
        "In this homework, we will learn to do some basic linear algebra (and other numeric) computations using the Python programming language and the NumPy library. First, we want to _import_ the NumPy and Matplotlib libraries, which we will use throughout the homework. You must execute the following code block before you execute any other code in this file."
      ]
    },
    {
      "cell_type": "code",
      "metadata": {
        "id": "VW0xyjK3Rwj1"
      },
      "source": [
        "import numpy as np\n",
        "import matplotlib.pyplot as plt"
      ],
      "execution_count": null,
      "outputs": []
    },
    {
      "cell_type": "markdown",
      "metadata": {
        "id": "pNoAykUSQj74"
      },
      "source": [
        "## Example 1: adding two matrices\n",
        "In linear algebra, you learned that adding matrices is easy. To add a matrix $A$ and $B$, you just perform addition component-wise. You cannot, however, add \n",
        "two matrices of different dimensions.\n",
        "\n",
        "In NumPy, matrices are represented as `numpy.array` (for those familiar with computer programming, this name might be misleading). Let us create a $2 \\times 3$ matrix in NumPy as an example:"
      ]
    },
    {
      "cell_type": "code",
      "metadata": {
        "id": "2Metmv13RVE0",
        "outputId": "bcbb91de-e6ea-4d86-b9fb-09aba6a13207",
        "colab": {
          "base_uri": "https://localhost:8080/",
          "height": 71
        }
      },
      "source": [
        "np.array([[1, 2, 3],\n",
        "          [4, 5, 6]])\n",
        "\n",
        "a=5\n",
        "b=6\n",
        "\n",
        "np.array([[3, 6, 9, 12],\n",
        "          [1, 2, 3, 4],\n",
        "          [a, b, 5, 8]])"
      ],
      "execution_count": null,
      "outputs": [
        {
          "output_type": "execute_result",
          "data": {
            "text/plain": [
              "array([[ 3,  6,  9, 12],\n",
              "       [ 1,  2,  3,  4],\n",
              "       [ 5,  6,  5,  8]])"
            ]
          },
          "metadata": {
            "tags": []
          },
          "execution_count": 3
        }
      ]
    },
    {
      "cell_type": "code",
      "metadata": {
        "id": "bo3b1hJS76Z_",
        "outputId": "c62c5414-87fa-4b2e-c38f-5505d8053884",
        "colab": {
          "base_uri": "https://localhost:8080/",
          "height": 53
        }
      },
      "source": [
        "np.array([[\"Susan\", \"David\"],\n",
        "         [\"Michael\", \"Tim\"]])"
      ],
      "execution_count": null,
      "outputs": [
        {
          "output_type": "execute_result",
          "data": {
            "text/plain": [
              "array([['Susan', 'David'],\n",
              "       ['Michael', 'Tim']], dtype='<U7')"
            ]
          },
          "metadata": {
            "tags": []
          },
          "execution_count": 4
        }
      ]
    },
    {
      "cell_type": "markdown",
      "metadata": {
        "id": "Ni_Y0wQ3R9kZ"
      },
      "source": [
        "Try changing the dimensions of the matrix and add more (or remove some) elements to the matrix above!"
      ]
    },
    {
      "cell_type": "markdown",
      "metadata": {
        "id": "tJb1n1cRSI0x"
      },
      "source": [
        "Next, we move on to adding two matrices. We want to add each component of the matrices one by one, so we use a _loop_ to accomplish it. "
      ]
    },
    {
      "cell_type": "code",
      "metadata": {
        "id": "h7ampMjdSHAH"
      },
      "source": [
        "def matrix_add(A, B):\n",
        "  # create a new array with the same dimensions to hold the result\n",
        "  # からの行列を作る\n",
        "  M = np.empty(A.shape)\n",
        "  # get the height of the array\n",
        "  m = len(A)\n",
        "  # iterate through each row\n",
        "  for i in range(m):\n",
        "    # get the size of the i-th row\n",
        "    n = len(A[i])\n",
        "    # then iterate the row\n",
        "    for j in range(n):\n",
        "      M[i][j] = A[i][j] + B[i][j]\n",
        "  \n",
        "  # return the final result\n",
        "  # never forget to RETURN the result of your computation!\n",
        "  return M"
      ],
      "execution_count": null,
      "outputs": []
    },
    {
      "cell_type": "markdown",
      "metadata": {
        "id": "iQ6CfUG1UmmX"
      },
      "source": [
        "We have defined a _function_ `matrix_add` that takes two arguments, $A$ and $B$, which should be matrices of the same size, and _returns_ the result of the addition. We can run the function to check if our function is correct:"
      ]
    },
    {
      "cell_type": "code",
      "metadata": {
        "id": "7r6huvDmUl8f",
        "outputId": "d3d0047a-c58b-4f4d-b5d2-367405b10e53",
        "colab": {
          "base_uri": "https://localhost:8080/",
          "height": 53
        }
      },
      "source": [
        "A = np.array([[1, 2, 3],\n",
        "              [4, 5, 6]])\n",
        "B = np.array([[2, 3, 4, 5],\n",
        "              [5, 6, 7, 8]]) # mysterious\n",
        "matrix_add(A, B)"
      ],
      "execution_count": null,
      "outputs": [
        {
          "output_type": "execute_result",
          "data": {
            "text/plain": [
              "array([[ 3.,  5.,  7.],\n",
              "       [ 9., 11., 13.]])"
            ]
          },
          "metadata": {
            "tags": []
          },
          "execution_count": 6
        }
      ]
    },
    {
      "cell_type": "markdown",
      "metadata": {
        "id": "vMZA7idOVRKj"
      },
      "source": [
        "However, there is a flaw in this function! If we give it two matrices of different sizes, the function will fail mysteriously. Try changing the code above to observe what happens. For this reason, we might want to check beforehand that $A$ and $B$ have the same dimensions, and if they do not, we want to be informed that the input is invalid. To do this, we can use a _conditional statement_ to check if they have the same dimensions, and _throw an exception_ if they do not:"
      ]
    },
    {
      "cell_type": "code",
      "metadata": {
        "id": "sry171hSWE2D"
      },
      "source": [
        "def matrix_add_improved(A, B):\n",
        "  # check that A and B have the same shape\n",
        "  if (A.shape != B.shape):\n",
        "    # if not, then raise an exception\n",
        "    raise Exception(\"Cannot add matrices of different dimensions!\")\n",
        "\n",
        "  M = np.empty(A.shape)\n",
        "  m = len(A)\n",
        "  for i in range(m):\n",
        "    n = len(A[i])\n",
        "    for j in range(n):\n",
        "      M[i][j] = A[i][j] + B[i][j]\n",
        "  \n",
        "  return M"
      ],
      "execution_count": null,
      "outputs": []
    },
    {
      "cell_type": "markdown",
      "metadata": {
        "id": "6PdDsDgLWUxn"
      },
      "source": [
        "Now, when we attempt to add matrices of different dimensions, we will receive an error that tells us precisely so:"
      ]
    },
    {
      "cell_type": "code",
      "metadata": {
        "id": "8lZ2nR8eWjUK"
      },
      "source": [
        "A = np.array([[1, 2],\n",
        "              [3, 4]])\n",
        "B = np.array([[1, 2, 3],\n",
        "              [4, 5, 6]])\n",
        "\n",
        "matrix_add_improved(A, B)"
      ],
      "execution_count": null,
      "outputs": []
    },
    {
      "cell_type": "markdown",
      "metadata": {
        "id": "EuS0zjyVWzAV"
      },
      "source": [
        "That's much better! Generally we do not require that you add such \"sanity checks\" in your programs for this course, but it could never hurt you (and often help you) to do so. In this assignment, we ask you to check for dimensional errors to familiarize you with Python."
      ]
    },
    {
      "cell_type": "markdown",
      "metadata": {
        "id": "oCdjl4W_XPQG"
      },
      "source": [
        "Next, it is your turn to do some things!"
      ]
    },
    {
      "cell_type": "code",
      "metadata": {
        "id": "2_05SZi5kSzi",
        "outputId": "d41c27db-427f-4c28-c899-8d215f1a4f79",
        "colab": {
          "base_uri": "https://localhost:8080/",
          "height": 53
        }
      },
      "source": [
        "matrix = [[1, 2, 3],\n",
        "          [4, 5, 6],\n",
        "          [7, 8, 9]]\n",
        "transpose = []\n",
        "for i in range(len(matrix[0])):\n",
        "    tmp = []\n",
        "    for v in matrix:\n",
        "        tmp.append(v[i])\n",
        "    transpose.append(tmp)\n",
        " \n",
        "print(transpose)\n",
        "matrix[0]"
      ],
      "execution_count": null,
      "outputs": [
        {
          "output_type": "stream",
          "text": [
            "[[1, 4, 7], [2, 5, 8], [3, 6, 9]]\n"
          ],
          "name": "stdout"
        },
        {
          "output_type": "execute_result",
          "data": {
            "text/plain": [
              "[1, 2, 3]"
            ]
          },
          "metadata": {
            "tags": []
          },
          "execution_count": 9
        }
      ]
    },
    {
      "cell_type": "markdown",
      "metadata": {
        "id": "zzPC7Kf5XR2l"
      },
      "source": [
        "## Exercise 0: find the transpose of a matrix\n",
        "Given a matrix $A$, its transpose $A^T$ is just the matrix \"rotated 90 degrees\". In other words, $A^T[i, j] = A[j, i]$. Now, write a Python function to find the transpose of a given matrix. \n",
        "(Hint: what is the dimension of the transpose of a $m \\times n$ matrix?)\n",
        "\n",
        "This exercise is intended as a warm-up, so if you are already quite familiar with Python, you may skip it. If you are not, then you are strongly adviced to attempt it!"
      ]
    },
    {
      "cell_type": "code",
      "metadata": {
        "id": "Vi0ENCHJX2U0",
        "outputId": "d9c8a447-ab18-4e7e-e476-d57bcafa823d",
        "colab": {
          "base_uri": "https://localhost:8080/",
          "height": 35
        }
      },
      "source": [
        "def transpose(A):\n",
        "  # fill in here\n",
        "  tr = []\n",
        "  for i in range(len(A[0])):\n",
        "    tmp = []\n",
        "    for j in A:\n",
        "      tmp.append(j[i])\n",
        "    tr.append(tmp)\n",
        "  print(tr)\n",
        "\n",
        "A = np.array([[1, 2],\n",
        "              [3, 4]])\n",
        "\n",
        "transpose(A)\n",
        "\n",
        "  # remove the line below after you are done\n",
        "  # raise NotImplemented"
      ],
      "execution_count": null,
      "outputs": [
        {
          "output_type": "stream",
          "text": [
            "[[1, 3], [2, 4]]\n"
          ],
          "name": "stdout"
        }
      ]
    },
    {
      "cell_type": "code",
      "metadata": {
        "id": "E7TQ6K3-nnRL",
        "outputId": "815a6053-05ac-4439-8095-1cdaccac0f1f",
        "colab": {
          "base_uri": "https://localhost:8080/",
          "height": 53
        }
      },
      "source": [
        "A = np.array([[1, 2],\n",
        "              [3, 4]])\n",
        "\n",
        "A.T"
      ],
      "execution_count": null,
      "outputs": [
        {
          "output_type": "execute_result",
          "data": {
            "text/plain": [
              "array([[1, 3],\n",
              "       [2, 4]])"
            ]
          },
          "metadata": {
            "tags": []
          },
          "execution_count": 11
        }
      ]
    },
    {
      "cell_type": "markdown",
      "metadata": {
        "id": "n48sdWg4X6Xn"
      },
      "source": [
        "## Exercise 1: multiplying two matrices\n",
        "Again, this is something you learned in your linear algebra class. Given two matrices $A$ and $B$, write a function that multiplies them.\n",
        "\n",
        "The textbook method to multiply to matrices is sufficient, although this is not the most efficient way. If you have a lot of programming experience, you can try to implement some sort of \"fast matrix multiplication\", such as [Strassen's algorithm](https://en.wikipedia.org/wiki/Strassen_algorithm).\n",
        "\n",
        "(Hint: again, pay attention to the dimensions!)"
      ]
    },
    {
      "cell_type": "code",
      "metadata": {
        "id": "cwToJR3Fr5bD",
        "outputId": "9351f154-de57-410d-e58f-4069c37af30d",
        "colab": {
          "base_uri": "https://localhost:8080/",
          "height": 35
        }
      },
      "source": [
        "# Test code of normal version\n",
        "\n",
        "A = np.random.randint(1, 10, (40, 40))\n",
        "B = np.random.randint(1, 10, (40, 40))\n",
        "m = len(A)\n",
        "C = np.zeros_like(A)\n",
        "\n",
        "for i in range(m):\n",
        "  for j in range(m):\n",
        "    for k in range(m):\n",
        "      C[i, j] += A[i, k]*B[k, j]\n",
        "\n",
        "print(C[i,j])"
      ],
      "execution_count": null,
      "outputs": [
        {
          "output_type": "stream",
          "text": [
            "902\n"
          ],
          "name": "stdout"
        }
      ]
    },
    {
      "cell_type": "code",
      "metadata": {
        "id": "-vJCLTidwWOE",
        "outputId": "bfd4cbe9-4106-4c0d-85aa-3f27a65f98d7",
        "colab": {
          "base_uri": "https://localhost:8080/",
          "height": 305
        }
      },
      "source": [
        "# Preparation for calculating\n",
        "A = np.random.randint(1, 10, (8, 8))\n",
        "\n",
        "print(A)\n",
        "a1, a2, = np.split(A, 2)\n",
        "\n",
        "a11, a12 = np.split(a1, 2, 1)\n",
        "a21, a22 = np.split(a2, 2, 1)\n",
        "\n",
        "print(a11)\n",
        "print(a21)"
      ],
      "execution_count": 82,
      "outputs": [
        {
          "output_type": "stream",
          "text": [
            "[[7 3 7 9 7 5 5 6]\n",
            " [1 1 2 6 1 2 9 8]\n",
            " [7 9 3 3 9 1 1 8]\n",
            " [5 5 8 2 6 2 6 4]\n",
            " [5 1 7 3 4 4 3 5]\n",
            " [1 9 3 9 1 7 1 2]\n",
            " [7 8 8 9 1 9 2 1]\n",
            " [2 2 7 5 6 4 8 9]]\n",
            "[[7 3 7 9]\n",
            " [1 1 2 6]\n",
            " [7 9 3 3]\n",
            " [5 5 8 2]]\n",
            "[[5 1 7 3]\n",
            " [1 9 3 9]\n",
            " [7 8 8 9]\n",
            " [2 2 7 5]]\n"
          ],
          "name": "stdout"
        }
      ]
    },
    {
      "cell_type": "code",
      "metadata": {
        "id": "EIe_enf3YVEx",
        "outputId": "ff4a9a96-54f1-4806-ae2e-f566c23d485d",
        "colab": {
          "base_uri": "https://localhost:8080/",
          "height": 233
        }
      },
      "source": [
        "def matrix_multiply(A, B):\n",
        "  # fill in here\n",
        "  # Distoribution\n",
        "  a1, a2, = np.split(A, 2)\n",
        "  a11, a12 = np.split(a1, 2, 1)\n",
        "  a21, a22 = np.split(a2, 2, 1)\n",
        "\n",
        "  b1, b2, = np.split(B, 2)\n",
        "  b11, b12 = np.split(b1, 2, 1)\n",
        "  b21, b22 = np.split(b2, 2, 1)\n",
        "  \n",
        "  # Formula\n",
        "  p1 = (a11+a22)*(b11+b22)\n",
        "  p2 = (a21+a22)*b11\n",
        "  p3 = a11*(b12-b22)\n",
        "  p4 = a22*(b21-b11)\n",
        "  p5 = (a11+a12)*b22\n",
        "  p6 = (a21-a11)*(b11+b12)\n",
        "  p7 = (a11-a21)*(b11+b12)\n",
        "\n",
        "  # Definition of C\n",
        "  C = np.zeros_like(A)\n",
        "  \n",
        "  c1, c2, = np.split(C, 2)\n",
        "  c11, c12 = np.split(c1, 2, 1)\n",
        "  c21, c22 = np.split(c2, 2, 1)\n",
        "\n",
        "  c11 = p1+p4-p5+p7\n",
        "  c12 = p3+p5\n",
        "  c21 = p2+p4\n",
        "  c22 = p1+p3-p2+p6\n",
        "\n",
        "  c11 = np.append(c11, c12, axis=1)\n",
        "  c21 = np.append(c21, c22, axis=1)\n",
        "  c11 = np.append(c11, c21, axis=0)\n",
        "  C = c11\n",
        "  print(C)\n",
        "\n",
        "A = np.array([[26, 2, -1, 6],\n",
        "              [1, 57, 3, 9],\n",
        "              [81, -1, 2, 28],\n",
        "              [18, 30, 64, 97]])\n",
        "B = np.array([[34, 42, 67, 20],\n",
        "              [22, 14, 35, 76],\n",
        "              [83, 12, 69, 80],\n",
        "              [4, 6, 7, 9]])\n",
        "\n",
        "matrix_multiply(A, B)\n",
        "\n",
        "# Confirming\n",
        "print(np.dot(A, B))\n",
        "print(A*B)\n",
        "\n",
        "# ???????? Why ????????\n",
        "\n",
        "  # remove the line below after you are done\n",
        "  # raise NotImplemented"
      ],
      "execution_count": 102,
      "outputs": [
        {
          "output_type": "stream",
          "text": [
            "[[-4298  2366  1673   520]\n",
            " [ -264  4602    56  4413]\n",
            " [ 2920   294  5565  2220]\n",
            " [  652  1002  1078  3153]]\n",
            "[[ 869 1144 1785  646]\n",
            " [1573  930 2332 4673]\n",
            " [3010 3580 5726 1956]\n",
            " [6972 2526 7351 8633]]\n",
            "[[ 884   84  -67  120]\n",
            " [  22  798  105  684]\n",
            " [6723  -12  138 2240]\n",
            " [  72  180  448  873]]\n"
          ],
          "name": "stdout"
        }
      ]
    },
    {
      "cell_type": "markdown",
      "metadata": {
        "id": "CrEzUCnyZXGN"
      },
      "source": [
        "In fact, NumPy already provides us with a lot of the basic functions required to work with matrices (such as adding, subtracting and multiplying matrices). [Here](https://s3.amazonaws.com/assets.datacamp.com/blog_assets/Numpy_Python_Cheat_Sheet.pdf) you can find a brief guide to all of them. From now on you may use all the matrix manipulating (and linear algebraic) functions in NumPy freely."
      ]
    },
    {
      "cell_type": "markdown",
      "metadata": {
        "id": "VRKe2zuGMI27"
      },
      "source": [
        "## Example 2: linear systems of equations\n",
        "A linear system of $m$ equations and $n$ unknowns can be expressed as $Ax = B$, where $A$ is a $m \\times n$ matrix. For example, the system\n",
        "$$\n",
        "3x + 2y - z = 12\\\\\n",
        "x - y + 3z = 1\\\\\n",
        "4x - y + 2z = 5\n",
        "$$\n",
        "can be expressed in matrix form as\n",
        "$$\n",
        "\\begin{bmatrix}\n",
        "3 & 2 & -1\\\\\n",
        "1 & -1 & 3\\\\\n",
        "4 & -1 & 2\n",
        "\\end{bmatrix}\n",
        "\\begin{bmatrix}\n",
        "x \\\\ y \\\\ z\n",
        "\\end{bmatrix} =\n",
        "\\begin{bmatrix}\n",
        "12 \\\\ 1 \\\\ 5\n",
        "\\end{bmatrix}.\n",
        "$$"
      ]
    },
    {
      "cell_type": "markdown",
      "metadata": {
        "id": "MhBJnyHpOOYV"
      },
      "source": [
        "Then, we can use the function `np.linalg.solve` to solve a linear system of equations in matrix form. From linear algebra class, you know that $A$ must be a square matrix of full rank for the system to have an exact solution. We can use the function `np.linalg.matrix_rank` to confirm this:"
      ]
    },
    {
      "cell_type": "code",
      "metadata": {
        "id": "y5PhIzePOylS",
        "outputId": "6a6730fc-2f27-4c40-a262-5ecf2fb2da99",
        "colab": {
          "base_uri": "https://localhost:8080/",
          "height": 35
        }
      },
      "source": [
        "A = np.array([[3, 2, -1],\n",
        "              [1, -1, 3],\n",
        "              [4, -1, 2]])\n",
        "\n",
        "np.linalg.matrix_rank(A)"
      ],
      "execution_count": null,
      "outputs": [
        {
          "output_type": "execute_result",
          "data": {
            "text/plain": [
              "3"
            ]
          },
          "metadata": {
            "tags": []
          },
          "execution_count": 15
        }
      ]
    },
    {
      "cell_type": "markdown",
      "metadata": {
        "id": "o349QkrTPEMp"
      },
      "source": [
        "Then, we can solve the system of equations:"
      ]
    },
    {
      "cell_type": "code",
      "metadata": {
        "id": "uFQaGCjANj5d",
        "outputId": "04b8b3d1-4dc3-4702-af11-576157c5bded",
        "colab": {
          "base_uri": "https://localhost:8080/",
          "height": 35
        }
      },
      "source": [
        "B = np.array([12, 1, 5])\n",
        " \n",
        "np.linalg.solve(A, B)"
      ],
      "execution_count": null,
      "outputs": [
        {
          "output_type": "execute_result",
          "data": {
            "text/plain": [
              "array([1.7, 4. , 1.1])"
            ]
          },
          "metadata": {
            "tags": []
          },
          "execution_count": 16
        }
      ]
    },
    {
      "cell_type": "markdown",
      "metadata": {
        "id": "fK0lN05nPOqs"
      },
      "source": [
        "## Exercise 2: linear regression\n",
        "Let $A$ be a $m\\times n$-matrix and $y\\in \\mathbb{R}^m$.\n",
        "We learned that the \"best\" solution of a linear system $A \\theta = y$ (which might not have exact solutions) is given by the solution of $$(A^T A) \\theta = A^T y$$\n",
        "This solution for $\\theta$ minimizes $||A\\theta - y||$. If the columns of $A$ are linearly independet (which is usually the case in real life applications), then the $n\\times n$-matrix $A^T A$ has full rank, i.e. is invertible and the above euqation can be solved exaclty. \n",
        "\n",
        "**2.1** Implement a function `best_solution(A,y)` which takes as an input a matrix $A$ and a vector $y$ as above and which outputs a vector $\\theta \\in \\mathbb{R}^n$, which is the solution of $(A^T A) \\theta = A^T y$. Use the function `np.linalg.solve` for this."
      ]
    },
    {
      "cell_type": "code",
      "metadata": {
        "id": "BbPaMt1lWt2r",
        "outputId": "b6ea443d-9766-45a6-e94c-cbe947d729ee",
        "colab": {
          "base_uri": "https://localhost:8080/",
          "height": 35
        }
      },
      "source": [
        "def best_solution(A, y):\n",
        "  # fill in here\n",
        "  At = A.T\n",
        "  P = np.dot(At, A)\n",
        "  Q = np.dot(At, y)\n",
        "  Solution = np.linalg.solve(P, Q).tolist()\n",
        "  return Solution\n",
        "\n",
        "A = np.array([[3, 2, -1],\n",
        "              [1, -1, 3],\n",
        "              [4, -1, 2]])\n",
        "\n",
        "y = np.array([1, 2, 3])\n",
        "\n",
        "best_solution(A, y)\n",
        "type(best_solution(A, y))\n",
        "best_solution(A, y)[1]\n",
        "\n",
        "  # remove the line below after you are done\n",
        "  # raise NotImplemented"
      ],
      "execution_count": null,
      "outputs": [
        {
          "output_type": "execute_result",
          "data": {
            "text/plain": [
              "3.646206144032093e-16"
            ]
          },
          "metadata": {
            "tags": []
          },
          "execution_count": 36
        }
      ]
    },
    {
      "cell_type": "code",
      "metadata": {
        "id": "gqRN8zGS2uKo",
        "outputId": "b5517755-d3cf-4adf-f778-8a7d0c81a9ef",
        "colab": {
          "base_uri": "https://localhost:8080/",
          "height": 125
        }
      },
      "source": [
        "A = np.random.randint(1, 10, (4, 4))\n",
        "y = np.random.randint(1, 10, (4))\n",
        "print(A)\n",
        "print(y)\n",
        "best_solution(A, y)"
      ],
      "execution_count": null,
      "outputs": [
        {
          "output_type": "stream",
          "text": [
            "[[7 3 9 9]\n",
            " [4 5 3 2]\n",
            " [5 9 8 4]\n",
            " [8 3 3 2]]\n",
            "[6 1 9 8]\n",
            "[0.9612244897959249, -1.5775510204082124, 4.153061224489901, -3.708163265306217]\n"
          ],
          "name": "stdout"
        }
      ]
    },
    {
      "cell_type": "code",
      "metadata": {
        "id": "dQ59dQCUZlka",
        "outputId": "fb9db9ad-878a-4fcc-f6e3-254b12027e38",
        "colab": {
          "base_uri": "https://localhost:8080/",
          "height": 35
        }
      },
      "source": [
        "def best_solution2(A, y):\n",
        "  print(np.linalg.solve(A.transpose().dot(A), A.transpose().dot(y)).tolist())\n",
        "\n",
        "A = np.array([[3, 2, -1],\n",
        "              [1, -1, 3],\n",
        "              [4, -1, 2]])\n",
        "\n",
        "y = np.array([1, 2, 3])\n",
        "best_solution2(A, y)"
      ],
      "execution_count": null,
      "outputs": [
        {
          "output_type": "stream",
          "text": [
            "[0.49999999999999994, 3.646206144032093e-16, 0.5000000000000002]\n"
          ],
          "name": "stdout"
        }
      ]
    },
    {
      "cell_type": "markdown",
      "metadata": {
        "id": "m8KhvDF1XkSV"
      },
      "source": [
        "**2.2** Let us consider again the training example of the Tebaski example:"
      ]
    },
    {
      "cell_type": "code",
      "metadata": {
        "id": "g2uNy8O4XhfL",
        "outputId": "8930447b-6c14-47a9-881c-083f2c541d46",
        "colab": {
          "base_uri": "https://localhost:8080/",
          "height": 544
        }
      },
      "source": [
        "# Training set\n",
        "Tx = np.array([2, 7, 13, 16, 22, 27])\n",
        "Ty = np.array([5, 20, 14, 32, 22, 38])\n",
        "\n",
        "# Draw the Training set\n",
        "plt.figure(figsize=(10,8))\n",
        "plt.plot(Tx,Ty,'X')\n",
        "plt.title(\"Training set\", fontsize =20)\n",
        "plt.xlabel(\"Weeks living in Nagoya\", fontsize=18)\n",
        "plt.ylabel(\"Tebasaki eaten\", fontsize=18)\n",
        "\n",
        "t1, t0 = np.polyfit(Tx, Ty, 1)\n",
        "plt.plot(Tx, t0+ t1*Tx)\n",
        "print(\"theta0 :\", t0, \" theta1:\", t1)\n",
        "plt.show()"
      ],
      "execution_count": 103,
      "outputs": [
        {
          "output_type": "stream",
          "text": [
            "theta0 : 6.489328676755913  theta1: 1.0582072176949942\n"
          ],
          "name": "stdout"
        },
        {
          "output_type": "display_data",
          "data": {
            "image/png": "[encoded data removed]",
            "text/plain": [
              "<Figure size 720x576 with 1 Axes>"
            ]
          },
          "metadata": {
            "tags": [],
            "needs_background": "light"
          }
        }
      ]
    },
    {
      "cell_type": "markdown",
      "metadata": {
        "id": "6XnPl70ZXyzn"
      },
      "source": [
        "Write a function `best_fit(Tx,Ty)` which returns a vector $\\theta = \\begin{pmatrix} \\theta_0 \\\\ \\theta_1 \\end{pmatrix}$, such that the hypothesis $h(x) = \\theta_0 + \\theta_1 x$ is the best fit for our trainings set. For this create the corresponding matrix $A$ and vector $y$ from the training set Tx and Ty and use your function `best_solution(A,y)` from 2.1. "
      ]
    },
    {
      "cell_type": "code",
      "metadata": {
        "id": "v0uNuzKn71nf",
        "outputId": "0352c8d6-c8f3-4f90-ef2a-8ce8198d0d73",
        "colab": {
          "base_uri": "https://localhost:8080/",
          "height": 35
        }
      },
      "source": [
        "# Preparation\n",
        "A=np.array([[1,2],\n",
        "            [1,7],\n",
        "            [1,13],\n",
        "            [1,16],\n",
        "            [1,22],\n",
        "            [1,27]])\n",
        "\n",
        "y=np.array([5, 20, 14, 32, 22, 38])\n",
        "best_solution(A, y)"
      ],
      "execution_count": null,
      "outputs": [
        {
          "output_type": "execute_result",
          "data": {
            "text/plain": [
              "[6.489328676755921, 1.058207217694994]"
            ]
          },
          "metadata": {
            "tags": []
          },
          "execution_count": 39
        }
      ]
    },
    {
      "cell_type": "code",
      "metadata": {
        "id": "Bs7HCxPHXyON",
        "outputId": "25358c1e-02fd-4387-9289-71c3c11e7c86",
        "colab": {
          "base_uri": "https://localhost:8080/",
          "height": 35
        }
      },
      "source": [
        "def best_fit(Tx, Ty):\n",
        "  # fill in here\n",
        "  Tx=np.array([[1, 2],\n",
        "            [1, 7],\n",
        "            [1, 13],\n",
        "            [1, 16],\n",
        "            [1, 22],\n",
        "            [1, 27]])\n",
        "\n",
        "  Ty=np.array([5, 20, 14, 32, 22, 38])\n",
        "  return best_solution(A, y)\n",
        "\n",
        "best_fit(Tx, Ty)\n",
        "\n",
        "  # remove the line below after you are done\n",
        "  # raise NotImplemented"
      ],
      "execution_count": null,
      "outputs": [
        {
          "output_type": "execute_result",
          "data": {
            "text/plain": [
              "[6.489328676755921, 1.058207217694994]"
            ]
          },
          "metadata": {
            "tags": []
          },
          "execution_count": 42
        }
      ]
    },
    {
      "cell_type": "markdown",
      "metadata": {
        "id": "rAwRm2ROYVcv"
      },
      "source": [
        "Plot your result by using the following code:"
      ]
    },
    {
      "cell_type": "code",
      "metadata": {
        "id": "JCC6dmNpYrb-",
        "outputId": "4fb27da9-c92c-43a4-fd2c-df8a29b2b663",
        "colab": {
          "base_uri": "https://localhost:8080/",
          "height": 526
        }
      },
      "source": [
        "# Draw the Training set\n",
        "plt.figure(figsize=(10,8))\n",
        "plt.plot(Tx,Ty,'X')\n",
        "plt.title(\"Training set\", fontsize =20)\n",
        "plt.xlabel(\"Weeks living in Nagoya\", fontsize=18)\n",
        "plt.ylabel(\"Tebasaki eaten\", fontsize=18)\n",
        "\n",
        "# Best fit (by using your own function best_fit)\n",
        "theta = best_fit(Tx, Ty)\n",
        "plt.plot(Tx, theta[0]+ theta[1]*Tx)\n",
        "plt.show()"
      ],
      "execution_count": null,
      "outputs": [
        {
          "output_type": "display_data",
          "data": {
            "image/png": "[encoded data removed]",
            "text/plain": [
              "<Figure size 720x576 with 1 Axes>"
            ]
          },
          "metadata": {
            "tags": [],
            "needs_background": "light"
          }
        }
      ]
    },
    {
      "cell_type": "markdown",
      "metadata": {
        "id": "rA9b6YO2Y-4R"
      },
      "source": [
        "**2.3 (Bonus - Polynom interpolation)** Extend your function in 2.2 to also allow a parameter $d$ (the degree). The function should return a vector $\\theta=\\begin{pmatrix} \\theta_0 \\\\ \\vdots \\\\ \\theta_d \\end{pmatrix}$, such that the hypothesis $h(x) = \\theta_0 + \\theta_1 x + \\dots + \\theta_d x^d$ gives an interpolation of the trainings set. \n",
        "\n",
        "(This function is already implemente in numpy as `np.polyfit(Tx, Ty, d)`, but you should just use your function `best_solution(A,y)` again. If you want to have a 100% self written implementation, then you can also write your own version of `np.linalg.solve` for the use in `best_solution(A,y)`, by implementing the Gaussian elimination algorithm.)"
      ]
    },
    {
      "cell_type": "code",
      "metadata": {
        "id": "YMZmeEqFZcOr",
        "outputId": "13db2424-7f95-45a3-aa57-36f8ff5dada7",
        "colab": {
          "base_uri": "https://localhost:8080/",
          "height": 251
        }
      },
      "source": [
        "def best_fit2(Tx, Ty, d):\n",
        "  # fill in here\n",
        "  n = len(Ty)\n",
        "\n",
        "  # Solution of linear regression\n",
        "  A = Tx\n",
        "  At = A.T\n",
        "  P = np.dot(At, A)\n",
        "  y = Ty\n",
        "  Q = np.dot(At, y)\n",
        "\n",
        "  # Make Diagonal matrix one\n",
        "  for i in range(n):\n",
        "    unit = P[i, i]\n",
        "    P[i] = P[i]/unit\n",
        "    y[i] = y[i]/unit\n",
        "    \n",
        "    # Make Identity matrix\n",
        "    for j in range(i+1, n):\n",
        "      m = P[j, i]\n",
        "      P[j] -= m*P[i]\n",
        "      y[j] -= m*y[i]\n",
        "  x = np.zeros(n)\n",
        "  for i in reversed(range(n)):\n",
        "    x[i] = y[i]/P[i, i]\n",
        "    for j in range(i):\n",
        "      y[j] -= P[j, i] * x[i]\n",
        "  fit_solution = x.tolist()\n",
        "  # return x\n",
        "  for v in range(n):\n",
        "    print(\"{} = {}\".format(d[v], fit_solution[v]))\n",
        "\n",
        "# In this time, this has no Correspondence,\n",
        "# so maybe results tend to be 0 ???\n",
        "pre_Tx = np.random.randint(20, 100, (6, 5))\n",
        "Tx = np.insert(pre_Tx, 0, 1, axis=1)\n",
        "Ty = np.random.randint(20, 100, (6))\n",
        "\n",
        "print(Tx)\n",
        "print(Ty)\n",
        "\n",
        "l = []\n",
        "x = 0\n",
        "for i in range(len(Ty)):\n",
        "    l.append(\"theta{}\".format(i))\n",
        "d = l\n",
        "\n",
        "best_fit2(Tx, Ty,d)\n",
        "\n",
        "  # remove the line below after you are done\n",
        "  # raise NotImplemented"
      ],
      "execution_count": 101,
      "outputs": [
        {
          "output_type": "stream",
          "text": [
            "[[ 1 91 51 83 96 45]\n",
            " [ 1 48 49 45 41 27]\n",
            " [ 1 53 40 36 48 39]\n",
            " [ 1 32 55 20 49 20]\n",
            " [ 1 63 60 79 70 95]\n",
            " [ 1 92 91 64 83 52]]\n",
            "[57 47 35 93 27 74]\n",
            "theta0 = 129.0\n",
            "theta1 = -1.0\n",
            "theta2 = -1.0\n",
            "theta3 = 0.0\n",
            "theta4 = 0.0\n",
            "theta5 = 0.0\n"
          ],
          "name": "stdout"
        }
      ]
    }
  ]
}